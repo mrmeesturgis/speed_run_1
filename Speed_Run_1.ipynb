{
 "cells": [
  {
   "cell_type": "markdown",
   "id": "d0adcf1d",
   "metadata": {},
   "source": [
    "## The Speed Run\n",
    "Your mission, should you choose to accept it is to race against your friends, finding the solution that works the fastest. It's a race against the clock (literally), so that's the first import we're going to use. The data is rather simple. You're job is to find one particular number in the data (the computer, not you), and return that value. It will only count if you find that value computationally, and finally all of this should be wrapped up in a function, so that I can give you different values and we can do multiple runs.  "
   ]
  },
  {
   "cell_type": "code",
   "execution_count": 4,
   "id": "fed7b912",
   "metadata": {},
   "outputs": [],
   "source": [
    "import time\n",
    "import csv"
   ]
  },
  {
   "cell_type": "code",
   "execution_count": 5,
   "id": "6d4ca88d",
   "metadata": {},
   "outputs": [
    {
     "name": "stdout",
     "output_type": "stream",
     "text": [
      "101\n"
     ]
    }
   ],
   "source": [
    "with open('mock_phone.csv', newline='', encoding = 'utf-8') as csvfile:\n",
    "    mphone = csv.reader(csvfile, delimiter=',')\n",
    "    phone = []\n",
    "    for row in mphone:\n",
    "        phone.append(row)\n",
    "print(len(phone))"
   ]
  },
  {
   "cell_type": "code",
   "execution_count": 8,
   "id": "c8ee536b",
   "metadata": {},
   "outputs": [
    {
     "name": "stdout",
     "output_type": "stream",
     "text": [
      "[['first_name', 'hours', 'apps', 'siblings'], ['Casey', '1', '5', '3']]\n"
     ]
    }
   ],
   "source": [
    "print(phone[:2])"
   ]
  },
  {
   "cell_type": "code",
   "execution_count": 10,
   "id": "af4d2fd8",
   "metadata": {},
   "outputs": [],
   "source": [
    "def runner(data, column, target, value): #e.g. all the names of those who have 3 siblings.\n",
    "    ct = time.perf_counter()\n",
    "    \n",
    "    \n",
    "    \n",
    "    # Do not put any code between the time function below and your return--that would be cheating!\n",
    "    nt = time.perf_counter()\n",
    "    tt = nt - ct\n",
    "    return answer, tt #answer should be a list of zero or more elements."
   ]
  },
  {
   "cell_type": "code",
   "execution_count": null,
   "id": "1d219cf5",
   "metadata": {},
   "outputs": [],
   "source": [
    "#When it's ready.\n",
    "answer, time = runner(phone, 'first_name', 'siblings', '3')\n",
    "print(answer, time)"
   ]
  },
  {
   "cell_type": "markdown",
   "id": "d220b8e0",
   "metadata": {},
   "source": [
    "#### Debrief\n",
    "\n",
    "In case you want to read up on the timer. [Timer Explanation](https://realpython.com/python-timer/)\n",
    "\n",
    "Not all code performs equally with regard to time, and this can be important. It might not matter much with 100 data points, but try 100 million data points. This conversation is called *Big-O notation*. Why? well according to google it's because it's the 'order of the function.' (think magnitude). Consider reading up on it with a few resources such as [Explanation](https://www.freecodecamp.org/news/big-o-notation-why-it-matters-and-why-it-doesnt-1674cfa8a23c/) or [Big-O Algorithm](https://www.bigocheatsheet.com/). Where you can find this nifty graph ![nifty graph](o_graph.png). "
   ]
  },
  {
   "cell_type": "code",
   "execution_count": null,
   "id": "9de046fc",
   "metadata": {},
   "outputs": [],
   "source": []
  }
 ],
 "metadata": {
  "kernelspec": {
   "display_name": "Python 3 (ipykernel)",
   "language": "python",
   "name": "python3"
  },
  "language_info": {
   "codemirror_mode": {
    "name": "ipython",
    "version": 3
   },
   "file_extension": ".py",
   "mimetype": "text/x-python",
   "name": "python",
   "nbconvert_exporter": "python",
   "pygments_lexer": "ipython3",
   "version": "3.9.7"
  }
 },
 "nbformat": 4,
 "nbformat_minor": 5
}
